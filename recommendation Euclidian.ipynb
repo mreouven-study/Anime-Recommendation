{
 "cells": [
  {
   "cell_type": "code",
   "execution_count": 1,
   "metadata": {},
   "outputs": [],
   "source": [
    "import numpy as np\n",
    "import pandas as pd\n",
    "import matplotlib.pyplot as plt\n",
    "import seaborn as sns"
   ]
  },
  {
   "cell_type": "code",
   "execution_count": 2,
   "metadata": {},
   "outputs": [],
   "source": [
    "anime = pd.read_csv(\"anime.csv\")\n",
    "reviews = pd.read_csv(\"rating.csv\")\n"
   ]
  },
  {
   "cell_type": "code",
   "execution_count": 3,
   "metadata": {},
   "outputs": [
    {
     "data": {
      "text/html": [
       "<div>\n",
       "<style scoped>\n",
       "    .dataframe tbody tr th:only-of-type {\n",
       "        vertical-align: middle;\n",
       "    }\n",
       "\n",
       "    .dataframe tbody tr th {\n",
       "        vertical-align: top;\n",
       "    }\n",
       "\n",
       "    .dataframe thead th {\n",
       "        text-align: right;\n",
       "    }\n",
       "</style>\n",
       "<table border=\"1\" class=\"dataframe\">\n",
       "  <thead>\n",
       "    <tr style=\"text-align: right;\">\n",
       "      <th></th>\n",
       "      <th>anime_id</th>\n",
       "      <th>name</th>\n",
       "      <th>genre</th>\n",
       "      <th>type</th>\n",
       "      <th>episodes</th>\n",
       "      <th>rating</th>\n",
       "      <th>members</th>\n",
       "    </tr>\n",
       "  </thead>\n",
       "  <tbody>\n",
       "    <tr>\n",
       "      <th>0</th>\n",
       "      <td>32281</td>\n",
       "      <td>Kimi no Na wa.</td>\n",
       "      <td>Drama, Romance, School, Supernatural</td>\n",
       "      <td>Movie</td>\n",
       "      <td>1</td>\n",
       "      <td>9.37</td>\n",
       "      <td>200630</td>\n",
       "    </tr>\n",
       "    <tr>\n",
       "      <th>1</th>\n",
       "      <td>5114</td>\n",
       "      <td>Fullmetal Alchemist: Brotherhood</td>\n",
       "      <td>Action, Adventure, Drama, Fantasy, Magic, Mili...</td>\n",
       "      <td>TV</td>\n",
       "      <td>64</td>\n",
       "      <td>9.26</td>\n",
       "      <td>793665</td>\n",
       "    </tr>\n",
       "    <tr>\n",
       "      <th>2</th>\n",
       "      <td>28977</td>\n",
       "      <td>Gintama°</td>\n",
       "      <td>Action, Comedy, Historical, Parody, Samurai, S...</td>\n",
       "      <td>TV</td>\n",
       "      <td>51</td>\n",
       "      <td>9.25</td>\n",
       "      <td>114262</td>\n",
       "    </tr>\n",
       "    <tr>\n",
       "      <th>3</th>\n",
       "      <td>9253</td>\n",
       "      <td>Steins;Gate</td>\n",
       "      <td>Sci-Fi, Thriller</td>\n",
       "      <td>TV</td>\n",
       "      <td>24</td>\n",
       "      <td>9.17</td>\n",
       "      <td>673572</td>\n",
       "    </tr>\n",
       "    <tr>\n",
       "      <th>4</th>\n",
       "      <td>9969</td>\n",
       "      <td>Gintama&amp;#039;</td>\n",
       "      <td>Action, Comedy, Historical, Parody, Samurai, S...</td>\n",
       "      <td>TV</td>\n",
       "      <td>51</td>\n",
       "      <td>9.16</td>\n",
       "      <td>151266</td>\n",
       "    </tr>\n",
       "  </tbody>\n",
       "</table>\n",
       "</div>"
      ],
      "text/plain": [
       "   anime_id                              name  \\\n",
       "0     32281                    Kimi no Na wa.   \n",
       "1      5114  Fullmetal Alchemist: Brotherhood   \n",
       "2     28977                          Gintama°   \n",
       "3      9253                       Steins;Gate   \n",
       "4      9969                     Gintama&#039;   \n",
       "\n",
       "                                               genre   type episodes  rating  \\\n",
       "0               Drama, Romance, School, Supernatural  Movie        1    9.37   \n",
       "1  Action, Adventure, Drama, Fantasy, Magic, Mili...     TV       64    9.26   \n",
       "2  Action, Comedy, Historical, Parody, Samurai, S...     TV       51    9.25   \n",
       "3                                   Sci-Fi, Thriller     TV       24    9.17   \n",
       "4  Action, Comedy, Historical, Parody, Samurai, S...     TV       51    9.16   \n",
       "\n",
       "   members  \n",
       "0   200630  \n",
       "1   793665  \n",
       "2   114262  \n",
       "3   673572  \n",
       "4   151266  "
      ]
     },
     "execution_count": 3,
     "metadata": {},
     "output_type": "execute_result"
    }
   ],
   "source": [
    "anime.head()"
   ]
  },
  {
   "cell_type": "code",
   "execution_count": 4,
   "metadata": {
    "scrolled": true
   },
   "outputs": [
    {
     "data": {
      "text/html": [
       "<div>\n",
       "<style scoped>\n",
       "    .dataframe tbody tr th:only-of-type {\n",
       "        vertical-align: middle;\n",
       "    }\n",
       "\n",
       "    .dataframe tbody tr th {\n",
       "        vertical-align: top;\n",
       "    }\n",
       "\n",
       "    .dataframe thead th {\n",
       "        text-align: right;\n",
       "    }\n",
       "</style>\n",
       "<table border=\"1\" class=\"dataframe\">\n",
       "  <thead>\n",
       "    <tr style=\"text-align: right;\">\n",
       "      <th></th>\n",
       "      <th>user_id</th>\n",
       "      <th>anime_id</th>\n",
       "      <th>rating</th>\n",
       "    </tr>\n",
       "  </thead>\n",
       "  <tbody>\n",
       "    <tr>\n",
       "      <th>0</th>\n",
       "      <td>1</td>\n",
       "      <td>20</td>\n",
       "      <td>-1</td>\n",
       "    </tr>\n",
       "    <tr>\n",
       "      <th>1</th>\n",
       "      <td>1</td>\n",
       "      <td>24</td>\n",
       "      <td>-1</td>\n",
       "    </tr>\n",
       "    <tr>\n",
       "      <th>2</th>\n",
       "      <td>1</td>\n",
       "      <td>79</td>\n",
       "      <td>-1</td>\n",
       "    </tr>\n",
       "    <tr>\n",
       "      <th>3</th>\n",
       "      <td>1</td>\n",
       "      <td>226</td>\n",
       "      <td>-1</td>\n",
       "    </tr>\n",
       "    <tr>\n",
       "      <th>4</th>\n",
       "      <td>1</td>\n",
       "      <td>241</td>\n",
       "      <td>-1</td>\n",
       "    </tr>\n",
       "  </tbody>\n",
       "</table>\n",
       "</div>"
      ],
      "text/plain": [
       "   user_id  anime_id  rating\n",
       "0        1        20      -1\n",
       "1        1        24      -1\n",
       "2        1        79      -1\n",
       "3        1       226      -1\n",
       "4        1       241      -1"
      ]
     },
     "execution_count": 4,
     "metadata": {},
     "output_type": "execute_result"
    }
   ],
   "source": [
    "reviews.head()"
   ]
  },
  {
   "cell_type": "code",
   "execution_count": 5,
   "metadata": {},
   "outputs": [
    {
     "data": {
      "text/plain": [
       "7813737"
      ]
     },
     "execution_count": 5,
     "metadata": {},
     "output_type": "execute_result"
    }
   ],
   "source": [
    "len(reviews)"
   ]
  },
  {
   "cell_type": "code",
   "execution_count": 6,
   "metadata": {},
   "outputs": [
    {
     "data": {
      "text/plain": [
       "12294"
      ]
     },
     "execution_count": 6,
     "metadata": {},
     "output_type": "execute_result"
    }
   ],
   "source": [
    "len(anime)"
   ]
  },
  {
   "cell_type": "code",
   "execution_count": 7,
   "metadata": {},
   "outputs": [],
   "source": [
    "#rating = reviews.values"
   ]
  },
  {
   "cell_type": "code",
   "execution_count": 8,
   "metadata": {},
   "outputs": [],
   "source": [
    "# all_users = {}\n",
    "# count = len(reviews)\n",
    "# user = np.array([])\n",
    "# for i in range(count):\n",
    "#     user.append(rating[1,0])\n",
    "\n",
    "# for user in rating.user_id.unique():\n",
    "#     l = len(rating.user_id == user)\n",
    "#     temp = {}\n",
    "#     new = rating[rating.user_id == user]\n",
    "#     for i in range(l):\n",
    "#         try:\n",
    "#             temp[new.loc[i][1]] = new.loc[i][2]\n",
    "#         except:\n",
    "#             pass\n",
    "#     all_users[user] = temp\n",
    "#     print(all_users)\n",
    "\n",
    "#Check BROOO\n",
    "    "
   ]
  },
  {
   "cell_type": "code",
   "execution_count": 9,
   "metadata": {},
   "outputs": [],
   "source": [
    "count = len(reviews)\n",
    "preferences = {}"
   ]
  },
  {
   "cell_type": "code",
   "execution_count": 10,
   "metadata": {},
   "outputs": [],
   "source": [
    "#Numpy array\n",
    "review_array = reviews.values"
   ]
  },
  {
   "cell_type": "code",
   "execution_count": 11,
   "metadata": {},
   "outputs": [],
   "source": [
    "for i in range(count):\n",
    "    user = review_array[i, 0]\n",
    "    anime = review_array[i, 1]\n",
    "    rating = review_array[i, 2]\n",
    "    \n",
    "    if user not in preferences.keys():\n",
    "        preferences[user] = {}\n",
    "    \n",
    "    preferences[user][anime] = rating"
   ]
  },
  {
   "cell_type": "code",
   "execution_count": 12,
   "metadata": {},
   "outputs": [],
   "source": [
    "#similarity based on Euclidian\n",
    "def sim_euclidian(preferences, person1,person2):\n",
    "    \n",
    "    similarity = {}\n",
    "    \n",
    "    #getting similar anime watched\n",
    "    \n",
    "    for anime in preferences[person1]:\n",
    "        if anime in preferences[person2]:\n",
    "            similarity[anime] = 1\n",
    "    \n",
    "    if len(similarity) == 0:\n",
    "        return 0\n",
    "    \n",
    "    Euclidian_distance = np.sqrt(np.sum([np.power(preferences[person1][anime] - preferences[person2][anime],2) \n",
    "                                 for anime in preferences[person1] if anime in preferences[person2]]))\n",
    "    \n",
    "    return 1/(1 + Euclidian_distance)\n",
    "\n",
    "    "
   ]
  },
  {
   "cell_type": "code",
   "execution_count": 13,
   "metadata": {},
   "outputs": [],
   "source": [
    "#ranking the reviewers\n",
    "def top_matches(preferences, person, n = 5, similarity = sim_euclidian):\n",
    "    \n",
    "    scores = [(similarity(preferences,person,reviewer),reviewer) for reviewer in preferences if reviewer != person]\n",
    "    \n",
    "    scores.sort()\n",
    "    scores.reverse()\n",
    "    return scores[:n]"
   ]
  },
  {
   "cell_type": "code",
   "execution_count": 14,
   "metadata": {},
   "outputs": [],
   "source": [
    "top_match = top_matches(preferences,1)\n",
    "#top_match[0]"
   ]
  },
  {
   "cell_type": "code",
   "execution_count": 15,
   "metadata": {},
   "outputs": [
    {
     "data": {
      "text/plain": [
       "[(1.0, 73472), (1.0, 73467), (1.0, 73418), (1.0, 73411), (1.0, 73407)]"
      ]
     },
     "execution_count": 15,
     "metadata": {},
     "output_type": "execute_result"
    }
   ],
   "source": [
    "top_match"
   ]
  },
  {
   "cell_type": "code",
   "execution_count": 21,
   "metadata": {},
   "outputs": [],
   "source": [
    "def recommendations(preferences, person, similarity = sim_euclidian):\n",
    "    total = {}\n",
    "    simsum = {}\n",
    "    \n",
    "    for reviwer in preferences:\n",
    "        if reviwer == person:\n",
    "            continue\n",
    "        sim = similarity(preferences,person,reviwer)\n",
    "        \n",
    "        if sim <= 0:\n",
    "            continue\n",
    "        for anime in preferences[reviwer]:\n",
    "            \n",
    "            if anime not in preferences[person] or preferences[person][anime] == 0:\n",
    "                total.setdefault(anime,0)\n",
    "                total[anime] += preferences[reviwer][anime] * sim\n",
    "                \n",
    "                simsum.setdefault(anime,0)\n",
    "                simsum[anime] += sim\n",
    "                \n",
    "    ranks = [(total/simsum[anime],anime) for anime,total in total.items()]\n",
    "    \n",
    "    ranks.sort()\n",
    "    ranks.reverse()\n",
    "    return ranks[:10]"
   ]
  },
  {
   "cell_type": "code",
   "execution_count": 22,
   "metadata": {},
   "outputs": [],
   "source": [
    "anime = pd.read_csv(\"anime.csv\")\n",
    "anime_array = anime.values"
   ]
  },
  {
   "cell_type": "code",
   "execution_count": 23,
   "metadata": {},
   "outputs": [
    {
     "data": {
      "text/plain": [
       "32281"
      ]
     },
     "execution_count": 23,
     "metadata": {},
     "output_type": "execute_result"
    }
   ],
   "source": [
    "anime_array[0][0]"
   ]
  },
  {
   "cell_type": "code",
   "execution_count": 24,
   "metadata": {},
   "outputs": [],
   "source": [
    "top_rec = recommendations(preferences,1)\n"
   ]
  },
  {
   "cell_type": "code",
   "execution_count": 25,
   "metadata": {},
   "outputs": [],
   "source": [
    "anime_list = []\n",
    "for i in top_rec:\n",
    "    for j in range(len(anime_array)):\n",
    "        if i[1] == anime_array[j][0]:\n",
    "            anime_list.append(anime_array[j])\n",
    "    \n",
    "#     anime_list.append(anime[\"name\"][anime.anime_id == i[1]])\n",
    "    "
   ]
  },
  {
   "cell_type": "code",
   "execution_count": 26,
   "metadata": {},
   "outputs": [
    {
     "data": {
      "text/plain": [
       "[array([33484, 'Shiroi Zou', 'Action, Historical, Kids', 'Movie', '1',\n",
       "        4.71, 45], dtype=object),\n",
       " array([34252, 'STAR BEAT!: Hoshi no Kodou', 'Music', 'Music', '1', 6.39,\n",
       "        230], dtype=object),\n",
       " array([33791, 'Warui no wo Taose!! Salaryman Man', 'Comedy, Parody',\n",
       "        'ONA', '1', 5.04, 74], dtype=object),\n",
       " array([31211, 'Choegang Top Plate', 'Action, Comedy, Kids, Sports', 'TV',\n",
       "        '26', 7.2, 86], dtype=object),\n",
       " array([9820, 'McDull, the Alumni', 'Comedy', 'Movie', '1', 6.38, 83],\n",
       "       dtype=object),\n",
       " array([9819, 'Mak Dau Xiang Dang Dang', 'Comedy', 'Movie', '1', 6.81, 103],\n",
       "       dtype=object),\n",
       " array([9817, 'Mak Dau Goo Si', 'Comedy', 'Movie', '1', 7.02, 136],\n",
       "       dtype=object),\n",
       " array([32422, 'Doukyuusei', 'Kids, Music', 'Music', '1', 5.83, 116],\n",
       "       dtype=object),\n",
       " array([31972, 'Tang Lang Bu Chan', 'Historical', 'Movie', '1', 5.9, 112],\n",
       "       dtype=object),\n",
       " array([30939, 'Shiranpuri', 'Drama, School', 'OVA', '1', 6.18, 155],\n",
       "       dtype=object)]"
      ]
     },
     "execution_count": 26,
     "metadata": {},
     "output_type": "execute_result"
    }
   ],
   "source": [
    "anime_list"
   ]
  },
  {
   "cell_type": "code",
   "execution_count": 27,
   "metadata": {},
   "outputs": [
    {
     "data": {
      "text/plain": [
       "[(10.000000000000002, 33484),\n",
       " (10.0, 34252),\n",
       " (10.0, 33791),\n",
       " (10.0, 31211),\n",
       " (9.541666666666668, 9820),\n",
       " (9.541666666666668, 9819),\n",
       " (9.541666666666668, 9817),\n",
       " (9.206914430351546, 32422),\n",
       " (9.0, 31972),\n",
       " (9.0, 30939)]"
      ]
     },
     "execution_count": 27,
     "metadata": {},
     "output_type": "execute_result"
    }
   ],
   "source": [
    "top_rec"
   ]
  },
  {
   "cell_type": "code",
   "execution_count": null,
   "metadata": {},
   "outputs": [],
   "source": []
  }
 ],
 "metadata": {
  "kernelspec": {
   "display_name": "Python 3",
   "language": "python",
   "name": "python3"
  },
  "language_info": {
   "codemirror_mode": {
    "name": "ipython",
    "version": 3
   },
   "file_extension": ".py",
   "mimetype": "text/x-python",
   "name": "python",
   "nbconvert_exporter": "python",
   "pygments_lexer": "ipython3",
   "version": "3.6.5"
  }
 },
 "nbformat": 4,
 "nbformat_minor": 2
}
